{
 "cells": [
  {
   "cell_type": "markdown",
   "metadata": {},
   "source": [
    "# _Handwritten Image Recognition with Keras and MNIST_\n",
    "\n",
    "![logo](images/keras.png) ![mnist](images/mnist.png)"
   ]
  },
  {
   "cell_type": "markdown",
   "metadata": {},
   "source": [
    "# References:\n",
    "\n",
    "* [Google Codelab tutorial](https://codelabs.developers.google.com/codelabs/cloud-tensorflow-mnist/index.html?index=..%2F..index#0)\n",
    "* http://neuralnetworksanddeeplearning.com/chap1.html\n",
    "* https://keras.io/\n",
    "* https://keras.io/examples/mnist_cnn/\n",
    "* https://www.ics.uci.edu/~mohamadt/keras_mnist.html\n",
    "* [3 Brown 1 Blue - What is a neural network](https://www.youtube.com/watch?v=aircAruvnKk)\n",
    "* https://www.kaggle.com/cdeotte/how-to-choose-cnn-architecture-mnist\n",
    "* Human Activity Recognition Comparitive - Jamie O' Halloran (Thesis - Unpublished but can show on request)"
   ]
  },
  {
   "cell_type": "markdown",
   "metadata": {},
   "source": [
    "# Imports and set up"
   ]
  },
  {
   "cell_type": "code",
   "execution_count": 16,
   "metadata": {
    "scrolled": false
   },
   "outputs": [
    {
     "name": "stdout",
     "output_type": "stream",
     "text": [
      "Keras Version 2.3.1\n"
     ]
    }
   ],
   "source": [
    "import numpy as np\n",
    "import keras\n",
    "import math\n",
    "\n",
    "from keras.datasets import mnist\n",
    "from keras.models import Sequential\n",
    "from keras.layers import Dense, Dropout, Activation, Input, Flatten, Conv2D, MaxPooling2D\n",
    "from keras.models import model_from_json\n",
    "from keras.utils import np_utils\n",
    "from keras.regularizers import l2\n",
    "from keras import backend as K\n",
    "from keras.layers.normalization import BatchNormalization\n",
    "\n",
    "from matplotlib import pyplot as plt\n",
    "%matplotlib inline\n",
    "\n",
    "print(\"Keras Version \" + keras.__version__)"
   ]
  },
  {
   "cell_type": "markdown",
   "metadata": {},
   "source": [
    "# Set Batch Size and Number of Epochs"
   ]
  },
  {
   "cell_type": "code",
   "execution_count": 2,
   "metadata": {},
   "outputs": [],
   "source": [
    "batch_size = 128\n",
    "epochs = 10\n",
    "num_classes =10"
   ]
  },
  {
   "cell_type": "markdown",
   "metadata": {},
   "source": [
    "# Load and Prepare Data Set\n",
    "\n",
    "* Loading the data set by calling the mnist.load_data() function.\n",
    "* Storing the data into arrays for the test and train set, along with their labels.\n",
    "* Casting arrays as type: float32\n",
    "* One hot encoding transforms categorical labels to 0s and 1s in order for the model to interpret [One Hot Encoding](https://www.youtube.com/watch?v=v_4KWmkwmsU)\n"
   ]
  },
  {
   "cell_type": "code",
   "execution_count": 3,
   "metadata": {},
   "outputs": [
    {
     "name": "stdout",
     "output_type": "stream",
     "text": [
      "x_train shape: (60000, 28, 28, 1)\n",
      "60000 train samples\n",
      "10000 test samples\n"
     ]
    }
   ],
   "source": [
    "# input image dimensions\n",
    "img_rows, img_cols = 28, 28\n",
    "\n",
    "# Loading data from training and test sets along with labels\n",
    "(X_train, Y_train), (X_test, Y_test) = mnist.load_data()\n",
    "\n",
    "# If the data format for the images : channels first\n",
    "if K.image_data_format() == 'channels_first':\n",
    "    # Reshape the data then train and store\n",
    "    X_train = X_train.reshape(X_train.shape[0], 1, img_rows, img_cols)\n",
    "    X_test = X_test.reshape(X_test.shape[0], 1, img_rows, img_cols)\n",
    "    input_shape = (1, img_rows, img_cols) # Store the input shape\n",
    "# Not channels first    \n",
    "else:\n",
    "    # Reshape the data then strain and store\n",
    "    X_train = X_train.reshape(X_train.shape[0], img_rows, img_cols, 1)\n",
    "    X_test = X_test.reshape(X_test.shape[0], img_rows, img_cols, 1)\n",
    "    input_shape = (img_rows, img_cols, 1) # Store the input shape\n",
    "\n",
    "X_train = X_train.astype('float32') # Casting as type : float32\n",
    "X_test = X_test.astype('float32') \n",
    "\n",
    "X_train /= 255 # Original data is uint8 (0-255). Scale to range [0,1]\n",
    "X_test /= 255\n",
    "\n",
    "# Print to verify\n",
    "print('x_train shape:', X_train.shape)\n",
    "print(X_train.shape[0], 'train samples')\n",
    "print(X_test.shape[0], 'test samples')\n",
    "\n",
    "# convert class vectors to binary class matrices\n",
    "Y_train = keras.utils.to_categorical(Y_train, num_classes)\n",
    "Y_test = keras.utils.to_categorical(Y_test, num_classes)"
   ]
  },
  {
   "cell_type": "markdown",
   "metadata": {},
   "source": [
    "# Viewing data"
   ]
  },
  {
   "cell_type": "code",
   "execution_count": 4,
   "metadata": {
    "scrolled": true
   },
   "outputs": [
    {
     "data": {
      "image/png": "[encoded data removed]",
      "text/plain": [
       "<Figure size 1008x216 with 15 Axes>"
      ]
     },
     "metadata": {},
     "output_type": "display_data"
    }
   ],
   "source": [
    "# Plot examples of the data.\n",
    "plt.figure(1, figsize=(14,3))\n",
    "for i in range(15):\n",
    "    plt.subplot(1,15,i+1)\n",
    "    plt.imshow(X_train[i].reshape(28,28), cmap='gray', interpolation='nearest')\n",
    "    plt.xticks([])\n",
    "    plt.yticks([])"
   ]
  },
  {
   "cell_type": "markdown",
   "metadata": {},
   "source": [
    "# Sequential Convolutional 2D Keras Model"
   ]
  },
  {
   "cell_type": "markdown",
   "metadata": {},
   "source": [
    "## Convolutional 2D\n",
    "* Convolutional 2D neural networkds apply a series of learnable filters to the input image.\n",
    "* A conv. layer is defined by the filter size, number of filters applied and the stride. \n",
    "* The input and output of the conv. layer each have 3 dimensions (width, height and number of channels), starting with input image (width, height, RGB).\n",
    "* The width and height of the output can be adjusted by using a stride > 1 or with a max-pooling operation.\n",
    "\n",
    "[Reference](https://codelabs.developers.google.com/codelabs/cloud-tensorflow-mnist/index.html?index=..%2F..index#9)"
   ]
  },
  {
   "cell_type": "markdown",
   "metadata": {},
   "source": [
    "### Notes:\n",
    "* Adding more layers to allow the network to go deeper.\n",
    "* Chaging 'sigmoid' to 'relu', reason being that even if the gradients coming from some neurons can be zero, there will always be others giving a clear non-zero gradient and training can continue at a good pace.\n",
    "* Changing 'sgd' to 'adam' --> Better optimizer\n",
    "* Adding dropout after final dense layer. Regularization technique.\n",
    "\n",
    "### [Layer notes](https://forums.fast.ai/t/dense-vs-convolutional-vs-fully-connected-layers/191):\n",
    "* Dense layer: Linear operation on the layers input vector\n",
    "* Convolutional Layer: Layer that consists of filters. Filters take subset of input data at a time, then applied accross the full input. Still matrix multiplication but have to go through an activation function at output (usually non-linear operation)\n",
    "\n",
    "### Glossary:\n",
    "* accuracy: metric used to keep track of during training.\n",
    "* optimiser: algorithm used to update the weights.\n",
    "* loss function: objective function being optimised. Using categorical crossentrophy as appropriate loss function for softmax output.\n",
    "* filters: number of desired feature maps\n",
    "* kernal_size: size of convolutional kernal. i.e. 5 --> 5 * 5 convolution. Specifies length of 1d convolutional window\n",
    "* strides: New layer maps will have size equal to previous layer maps divided by strides. Default 1\n",
    "* activation: Applied during forward propigation. Leaving blank results in no activation.\n",
    "* [batch normalisation](https://codelabs.developers.google.com/codelabs/cloud-tensorflow-mnist/index.html?index=..%2F..index#12): tries to address problem of how neuron outputs are distributed relatively to neurons activation function.\n",
    "* use_bias: Whether the layer uses a bias vector or not.\n",
    "    * [bias vector](https://deepai.org/machine-learning-glossary-and-terms/bias-vector): additional set of weights in a neural network the require no input\n",
    "* [padding](https://deepai.org/machine-learning-glossary-and-terms/padding): Refers to amount of pixels added to image when being processed by kernal of CNN"
   ]
  },
  {
   "cell_type": "code",
   "execution_count": 5,
   "metadata": {},
   "outputs": [
    {
     "name": "stdout",
     "output_type": "stream",
     "text": [
      "Model: \"sequential_1\"\n",
      "_________________________________________________________________\n",
      "Layer (type)                 Output Shape              Param #   \n",
      "=================================================================\n",
      "conv2d_1 (Conv2D)            (None, 26, 26, 12)        120       \n",
      "_________________________________________________________________\n",
      "conv2d_2 (Conv2D)            (None, 26, 26, 24)        2592      \n",
      "_________________________________________________________________\n",
      "batch_normalization_1 (Batch (None, 26, 26, 24)        72        \n",
      "_________________________________________________________________\n",
      "dense_1 (Dense)              (None, 26, 26, 128)       3200      \n",
      "_________________________________________________________________\n",
      "conv2d_3 (Conv2D)            (None, 13, 13, 36)        165888    \n",
      "_________________________________________________________________\n",
      "batch_normalization_2 (Batch (None, 13, 13, 36)        108       \n",
      "_________________________________________________________________\n",
      "dense_2 (Dense)              (None, 13, 13, 128)       4736      \n",
      "_________________________________________________________________\n",
      "conv2d_4 (Conv2D)            (None, 7, 7, 48)          221184    \n",
      "_________________________________________________________________\n",
      "batch_normalization_3 (Batch (None, 7, 7, 48)          144       \n",
      "_________________________________________________________________\n",
      "dense_3 (Dense)              (None, 7, 7, 128)         6272      \n",
      "_________________________________________________________________\n",
      "flatten_1 (Flatten)          (None, 6272)              0         \n",
      "_________________________________________________________________\n",
      "dense_4 (Dense)              (None, 200)               1254400   \n",
      "_________________________________________________________________\n",
      "batch_normalization_4 (Batch (None, 200)               600       \n",
      "_________________________________________________________________\n",
      "dense_5 (Dense)              (None, 128)               25728     \n",
      "_________________________________________________________________\n",
      "dropout_1 (Dropout)          (None, 128)               0         \n",
      "_________________________________________________________________\n",
      "dense_6 (Dense)              (None, 10)                1290      \n",
      "=================================================================\n",
      "Total params: 1,686,334\n",
      "Trainable params: 1,685,718\n",
      "Non-trainable params: 616\n",
      "_________________________________________________________________\n"
     ]
    }
   ],
   "source": [
    "model = Sequential() # New sequential model (linear stack of layers)\n",
    "\n",
    "# Layer 1\n",
    "model.add(Conv2D(12, kernel_size=(3, 3),\n",
    "                 activation='relu',\n",
    "                 input_shape=input_shape))\n",
    "\n",
    "model.add(Conv2D(24, (3, 3), activation='relu',\n",
    "                 use_bias=False, padding='same'))\n",
    "model.add(BatchNormalization(center=True, scale=False))\n",
    "model.add(Dense(128, activation='relu'))\n",
    "\n",
    "model.add(Conv2D(36, (6, 6), activation='relu',\n",
    "                 use_bias=False, padding='same', strides=2))\n",
    "model.add(BatchNormalization(center=True, scale=False))\n",
    "model.add(Dense(128, activation='relu'))\n",
    "\n",
    "model.add(Conv2D(48, (6, 6), activation='relu',\n",
    "                 use_bias=False, padding='same', strides=2))\n",
    "model.add(BatchNormalization(center=True, scale=False))\n",
    "model.add(Dense(128, activation='relu'))\n",
    "\n",
    "model.add(Flatten())\n",
    "\n",
    "model.add(Dense(200, use_bias=False))\n",
    "model.add(BatchNormalization(center=True, scale=False))\n",
    "model.add(Dense(128, activation='relu'))\n",
    "\n",
    "model.add(Dropout(0.3))\n",
    "model.add(Dense(num_classes, activation='softmax'))\n",
    "\n",
    "model.compile(optimizer=keras.optimizers.Adam(lr=0.01),\n",
    "              loss='categorical_crossentropy',\n",
    "              metrics=['accuracy'])\n",
    "\n",
    "# print model layers\n",
    "model.summary()"
   ]
  },
  {
   "cell_type": "markdown",
   "metadata": {},
   "source": [
    "# Learning Rate Schedule\n",
    "\n",
    "* Starts the learning rate fast then decays exponentially. It sets how much the model will adjust and change in response to error produced\n",
    "\n",
    "About Learning Rate: The learning rate identifies the speed of the learning process for each neuron. The value will be computed between 0 and 1. This multiplies with the error that each outputted value produces."
   ]
  },
  {
   "cell_type": "code",
   "execution_count": 6,
   "metadata": {
    "scrolled": true
   },
   "outputs": [],
   "source": [
    "# Learning rate decay function\n",
    "def learningrate_decay(epoch):\n",
    "    return 0.01 * math.pow(0.666, epoch)\n",
    "\n",
    "# learning rate schedule callback\n",
    "learningrate_decay_callback = keras.callbacks.callbacks.LearningRateScheduler(learningrate_decay, verbose=True)"
   ]
  },
  {
   "cell_type": "markdown",
   "metadata": {},
   "source": [
    "# Train the model\n",
    "\n",
    "### Notes:\n",
    "* [loss](https://stackoverflow.com/q/34673396/8883485): Scalar value that we should attempt to minimize during model training. Lower the loss, closer the predictions are to the true labels "
   ]
  },
  {
   "cell_type": "code",
   "execution_count": 7,
   "metadata": {
    "scrolled": false
   },
   "outputs": [
    {
     "name": "stdout",
     "output_type": "stream",
     "text": [
      "WARNING:tensorflow:From /home/morgan/GMIT/modules/Emerging_Tech/ET_PROJECT_2019/etp_env/lib/python3.6/site-packages/keras/backend/tensorflow_backend.py:422: The name tf.global_variables is deprecated. Please use tf.compat.v1.global_variables instead.\n",
      "\n",
      "Train on 60000 samples, validate on 10000 samples\n",
      "Epoch 1/10\n",
      "\n",
      "Epoch 00001: LearningRateScheduler setting learning rate to 0.01.\n",
      "60000/60000 [==============================] - 405s 7ms/step - loss: 0.1870 - accuracy: 0.9466 - val_loss: 0.1826 - val_accuracy: 0.9598\n",
      "Epoch 2/10\n",
      "\n",
      "Epoch 00002: LearningRateScheduler setting learning rate to 0.00666.\n",
      "60000/60000 [==============================] - 392s 7ms/step - loss: 0.0680 - accuracy: 0.9810 - val_loss: 0.0821 - val_accuracy: 0.9760\n",
      "Epoch 3/10\n",
      "\n",
      "Epoch 00003: LearningRateScheduler setting learning rate to 0.004435560000000001.\n",
      "60000/60000 [==============================] - 392s 7ms/step - loss: 0.0428 - accuracy: 0.9880 - val_loss: 0.0356 - val_accuracy: 0.9901\n",
      "Epoch 4/10\n",
      "\n",
      "Epoch 00004: LearningRateScheduler setting learning rate to 0.0029540829600000007.\n",
      "60000/60000 [==============================] - 393s 7ms/step - loss: 0.0254 - accuracy: 0.9923 - val_loss: 0.0350 - val_accuracy: 0.9905\n",
      "Epoch 5/10\n",
      "\n",
      "Epoch 00005: LearningRateScheduler setting learning rate to 0.0019674192513600007.\n",
      "60000/60000 [==============================] - 402s 7ms/step - loss: 0.0189 - accuracy: 0.9944 - val_loss: 0.0289 - val_accuracy: 0.9929\n",
      "Epoch 6/10\n",
      "\n",
      "Epoch 00006: LearningRateScheduler setting learning rate to 0.0013103012214057605.\n",
      "60000/60000 [==============================] - 395s 7ms/step - loss: 0.0129 - accuracy: 0.9961 - val_loss: 0.0238 - val_accuracy: 0.9930\n",
      "Epoch 7/10\n",
      "\n",
      "Epoch 00007: LearningRateScheduler setting learning rate to 0.0008726606134562365.\n",
      "60000/60000 [==============================] - 398s 7ms/step - loss: 0.0082 - accuracy: 0.9969 - val_loss: 0.0227 - val_accuracy: 0.9944\n",
      "Epoch 8/10\n",
      "\n",
      "Epoch 00008: LearningRateScheduler setting learning rate to 0.0005811919685618535.\n",
      "60000/60000 [==============================] - 402s 7ms/step - loss: 0.0059 - accuracy: 0.9981 - val_loss: 0.0203 - val_accuracy: 0.9942\n",
      "Epoch 9/10\n",
      "\n",
      "Epoch 00009: LearningRateScheduler setting learning rate to 0.0003870738510621945.\n",
      "60000/60000 [==============================] - 392s 7ms/step - loss: 0.0040 - accuracy: 0.9988 - val_loss: 0.0226 - val_accuracy: 0.9946\n",
      "Epoch 10/10\n",
      "\n",
      "Epoch 00010: LearningRateScheduler setting learning rate to 0.00025779118480742154.\n",
      "60000/60000 [==============================] - 390s 6ms/step - loss: 0.0027 - accuracy: 0.9992 - val_loss: 0.0227 - val_accuracy: 0.9949\n"
     ]
    }
   ],
   "source": [
    "model_history = model.fit(X_train, Y_train, batch_size, epochs, verbose=1,\n",
    "                    validation_data=(X_test, Y_test), callbacks=[learningrate_decay_callback])"
   ]
  },
  {
   "cell_type": "markdown",
   "metadata": {},
   "source": [
    "# Visualising predictions"
   ]
  },
  {
   "cell_type": "code",
   "execution_count": 8,
   "metadata": {},
   "outputs": [
    {
     "data": {
      "text/plain": [
       "<matplotlib.legend.Legend at 0x7fbe3c7d7438>"
      ]
     },
     "execution_count": 8,
     "metadata": {},
     "output_type": "execute_result"
    },
    {
     "data": {
      "image/png": "[encoded data removed]",
      "text/plain": [
       "<Figure size 1008x360 with 2 Axes>"
      ]
     },
     "metadata": {
      "needs_background": "light"
     },
     "output_type": "display_data"
    }
   ],
   "source": [
    "# Plot loss trajectory throughout training.\n",
    "plt.figure(1, figsize=(14,5))\n",
    "plt.subplot(1,2,1)\n",
    "plt.plot(model_history.history['loss'], label='train')\n",
    "plt.plot(model_history.history['val_loss'], label='valid')\n",
    "plt.xlabel('Epoch')\n",
    "plt.ylabel('Cross-Entropy Loss')\n",
    "plt.legend()\n",
    "\n",
    "plt.subplot(1,2,2)\n",
    "plt.plot(model_history.history['accuracy'], label='train')\n",
    "plt.plot(model_history.history['val_accuracy'], label='valid')\n",
    "plt.xlabel('Epoch')\n",
    "plt.ylabel('Accuracy')\n",
    "plt.legend()"
   ]
  },
  {
   "cell_type": "markdown",
   "metadata": {},
   "source": [
    "# Save + Load\n",
    "* https://keras.io/getting-started/faq/#how-can-i-save-a-keras-model\n",
    "* https://machinelearningmastery.com/save-load-keras-deep-learning-models/#\n",
    "\n",
    "### Notes\n",
    "* Saving model weights to h5 file\n",
    "    * h5: grid format that is ideal for storing muli-dim arrays of numbers\n",
    "* Saving model structure as JSON"
   ]
  },
  {
   "cell_type": "code",
   "execution_count": 10,
   "metadata": {},
   "outputs": [
    {
     "name": "stdout",
     "output_type": "stream",
     "text": [
      "Model saved sucessfully\n"
     ]
    }
   ],
   "source": [
    "# Adapted from: https://machinelearningmastery.com/save-load-keras-deep-learning-models/#\n",
    "\n",
    "# Serialize model to JSON.\n",
    "model_json = model.to_json()\n",
    "with open(\"model.json\", \"w\") as json_file:\n",
    "    json_file.write(model_json)\n",
    "    \n",
    "# Serialize weights to HDF5\n",
    "model.save_weights(\"model.h5\")\n",
    "print(\"Model saved sucessfully\")"
   ]
  },
  {
   "cell_type": "code",
   "execution_count": 17,
   "metadata": {},
   "outputs": [
    {
     "name": "stdout",
     "output_type": "stream",
     "text": [
      "Model loaded from disk\n"
     ]
    }
   ],
   "source": [
    "# Adapted from: https://machinelearningmastery.com/save-load-keras-deep-learning-models/#\n",
    "\n",
    "# Deserialize json and create model\n",
    "json_file = open('model.json', 'r')\n",
    "loaded_model_json = json_file.read()\n",
    "json_file.close()\n",
    "loaded_model = model_from_json(loaded_model_json)\n",
    "\n",
    "# Load weights into new model\n",
    "loaded_model.load_weights(\"model.h5\")\n",
    "print(\"Model loaded from disk\")\n",
    "\n",
    "# evaluate loaded model on test data\n",
    "loaded_model.compile(optimizer=keras.optimizers.Adam(lr=0.01),\n",
    "              loss='categorical_crossentropy',\n",
    "              metrics=['accuracy'])"
   ]
  },
  {
   "cell_type": "markdown",
   "metadata": {},
   "source": [
    "# Evaluate the performance"
   ]
  },
  {
   "cell_type": "code",
   "execution_count": 19,
   "metadata": {},
   "outputs": [
    {
     "name": "stdout",
     "output_type": "stream",
     "text": [
      "Test cross-entropy loss: 0.0227\n",
      "Test accuracy: 0.9949\n"
     ]
    }
   ],
   "source": [
    "score = loaded_model.evaluate(X_test, Y_test, verbose=0) # Using previously trained model\n",
    "print('Test cross-entropy loss: %0.4f' % score[0])\n",
    "print('Test accuracy: %0.4f' % score[1])"
   ]
  },
  {
   "cell_type": "markdown",
   "metadata": {},
   "source": [
    "# Visualise and inspect the output"
   ]
  },
  {
   "cell_type": "code",
   "execution_count": null,
   "metadata": {},
   "outputs": [],
   "source": [
    "predicted_classes = loaded_model.predict_classes(X)\n",
    "correct_indices   = np.nonzero(predicted_classes == Y_test.argmax(axis=-1))[0]\n",
    "incorrect_indices = np.nonzero(predicted_classes != Y_test.argmax(axis=-1))[0]\n",
    "\n",
    "# Plot the correct images\n",
    "plt.figure(1, figsize=(10,10))\n",
    "for i, correct in enumerate(correct_indices[:25]):\n",
    "    plt.subplot(5,5,i+1)\n",
    "    plt.imshow(X_test[correct].reshape(28,28), cmap='gray', interpolation='none')\n",
    "   \n",
    "    # Where P --> Predicted, A --> Actual\n",
    "    plt.title(\"P: {} | A: {}\".format(predicted_classes[correct], Y_test[correct].argmax(axis=-1)))\n",
    "    plt.xticks([])\n",
    "    plt.yticks([])\n",
    "    \n",
    "# Plot the incorrect images\n",
    "plt.figure(2, figsize=(10,10))\n",
    "for i, incorrect in enumerate(incorrect_indices[:25]):\n",
    "    plt.subplot(5,5,i+1)\n",
    "    plt.imshow(X_test[incorrect].reshape(28,28), cmap='gray', interpolation='none')\n",
    "    \n",
    "    # Where P --> Predicted, A --> Actual\n",
    "    plt.title(\"P: {} | A: {}\".format(predicted_classes[incorrect], Y_test[incorrect].argmax(axis=-1)))\n",
    "    plt.xticks([])\n",
    "    plt.yticks([])"
   ]
  }
 ],
 "metadata": {
  "kernelspec": {
   "display_name": "Python 3",
   "language": "python",
   "name": "python3"
  },
  "language_info": {
   "codemirror_mode": {
    "name": "ipython",
    "version": 3
   },
   "file_extension": ".py",
   "mimetype": "text/x-python",
   "name": "python",
   "nbconvert_exporter": "python",
   "pygments_lexer": "ipython3",
   "version": "3.6.8"
  }
 },
 "nbformat": 4,
 "nbformat_minor": 2
}
